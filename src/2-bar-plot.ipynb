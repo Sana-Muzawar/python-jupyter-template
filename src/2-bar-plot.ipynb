{
 "cells": [
  {
   "cell_type": "markdown",
   "metadata": {},
   "source": [
    "### Exercise 2: Bar Plot with Colors"
   ]
  },
  {
   "cell_type": "code",
   "execution_count": null,
   "metadata": {},
   "outputs": [],
   "source": [
    "# TASK: Create a bar plot with the following data: categories = ['A', 'B', 'C', 'D'] and values = [5, 7, 3, 9].\n",
    "# Use different colors for each bar and add a title to the plot."
   ]
  },
  {
   "cell_type": "code",
   "execution_count": 1,
   "metadata": {},
   "outputs": [
    {
     "data": {
      "image/png": "[encoded data removed]",
      "text/plain": [
       "<Figure size 600x400 with 1 Axes>"
      ]
     },
     "metadata": {},
     "output_type": "display_data"
    }
   ],
   "source": [
    "import matplotlib.pyplot as plt\n",
    "\n",
    "def validate_data(categories, values, colors):\n",
    "    if not isinstance(categories, list) or not isinstance(values, list) or not isinstance(colors, list):\n",
    "        raise TypeError(\"Categories, values, and colors must be lists.\")\n",
    "    if len(categories) != len(values) or len(categories) != len(colors):\n",
    "        raise ValueError(\"Categories, values, and colors must have the same length.\")\n",
    "    if not all(isinstance(cat, str) for cat in categories):\n",
    "        raise ValueError(\"All categories must be strings.\")\n",
    "    if not all(isinstance(val, (int, float)) for val in values):\n",
    "        raise ValueError(\"All values must be numeric (int or float).\")\n",
    "    if not all(isinstance(col, str) for col in colors):\n",
    "        raise ValueError(\"All colors must be strings.\")\n",
    "\n",
    "try:\n",
    "    categories = ['A', 'B', 'C', 'D']\n",
    "    values = [5, 7, 3, 9]\n",
    "    colors = ['red', 'blue', 'green', 'purple']\n",
    "    \n",
    "    validate_data(categories, values, colors)\n",
    "    \n",
    "    plt.figure(figsize=(6, 4))\n",
    "    plt.bar(categories, values, color=colors)\n",
    "    plt.title(\"Bar Plot\")\n",
    "    plt.xlabel(\"Categories\")\n",
    "    plt.ylabel(\"Values\")\n",
    "    plt.show()\n",
    "except Exception as e:\n",
    "    print(f\"Error: {e}\")\n"
   ]
  }
 ],
 "metadata": {
  "kernelspec": {
   "display_name": "Python 3",
   "language": "python",
   "name": "python3"
  },
  "language_info": {
   "codemirror_mode": {
    "name": "ipython",
    "version": 3
   },
   "file_extension": ".py",
   "mimetype": "text/x-python",
   "name": "python",
   "nbconvert_exporter": "python",
   "pygments_lexer": "ipython3",
   "version": "3.10.12"
  }
 },
 "nbformat": 4,
 "nbformat_minor": 2
}
